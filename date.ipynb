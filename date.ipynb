{
 "cells": [
  {
   "cell_type": "code",
   "execution_count": 13,
   "metadata": {},
   "outputs": [
    {
     "name": "stdout",
     "output_type": "stream",
     "text": [
      "2025-02-14 11:31:42.806621\n"
     ]
    }
   ],
   "source": [
    "import datetime\n",
    "x = datetime.datetime.now()\n",
    "x = x - datetime.timedelta(days=5)\n",
    "print(x)\n"
   ]
  },
  {
   "cell_type": "code",
   "execution_count": 4,
   "metadata": {},
   "outputs": [
    {
     "name": "stdout",
     "output_type": "stream",
     "text": [
      "Yesterday: 02/18/25\n",
      "Today: 02/19/25\n",
      "Tomorrow: 02/20/25\n"
     ]
    }
   ],
   "source": [
    "import datetime\n",
    "Today = datetime.datetime.now()\n",
    "Yesterday = datetime.datetime(Today.year, Today.month, Today.day - 1)\n",
    "Tomorrow = datetime.datetime(Today.year, Today.month, Today.day + 1)\n",
    "\n",
    "print(\"Yesterday:\", Yesterday.strftime(\"%x\"))\n",
    "print(\"Today:\", Today.strftime(\"%x\"))\n",
    "print(\"Tomorrow:\", Tomorrow.strftime(\"%x\"))\n",
    "    "
   ]
  },
  {
   "cell_type": "code",
   "execution_count": 5,
   "metadata": {},
   "outputs": [
    {
     "name": "stdout",
     "output_type": "stream",
     "text": [
      "02/19/25 12:54:38\n"
     ]
    }
   ],
   "source": [
    "Today = datetime.datetime.now()\n",
    "\n",
    "print(Today.strftime(\"%x\"), Today.strftime(\"%X\"))"
   ]
  },
  {
   "cell_type": "code",
   "execution_count": 6,
   "metadata": {},
   "outputs": [
    {
     "name": "stdout",
     "output_type": "stream",
     "text": [
      "Difference in seconds: -586486.717875\n"
     ]
    }
   ],
   "source": [
    "date1 = datetime.datetime.now()\n",
    "date2 = datetime.datetime(2025, 2, 12, 18, 00, 00)\n",
    "\n",
    "difference = date2 - date1\n",
    "\n",
    "difference_in_seconds = difference.total_seconds()\n",
    "\n",
    "print(\"Difference in seconds:\", difference_in_seconds)"
   ]
  }
 ],
 "metadata": {
  "kernelspec": {
   "display_name": "Python 3",
   "language": "python",
   "name": "python3"
  },
  "language_info": {
   "codemirror_mode": {
    "name": "ipython",
    "version": 3
   },
   "file_extension": ".py",
   "mimetype": "text/x-python",
   "name": "python",
   "nbconvert_exporter": "python",
   "pygments_lexer": "ipython3",
   "version": "3.12.9"
  }
 },
 "nbformat": 4,
 "nbformat_minor": 2
}
