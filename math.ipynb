{
 "cells": [
  {
   "cell_type": "code",
   "execution_count": 2,
   "metadata": {},
   "outputs": [
    {
     "name": "stdout",
     "output_type": "stream",
     "text": [
      "Input degree: 50.0\n",
      "Output radian: 0.872665\n"
     ]
    }
   ],
   "source": [
    "import math\n",
    "\n",
    "a = float(input())\n",
    "\n",
    "print(\"Input degree:\", a)\n",
    "\n",
    "radian = a * math.pi / 180\n",
    "\n",
    "print(\"Output radian:\", round(radian, 6))"
   ]
  },
  {
   "cell_type": "code",
   "execution_count": 3,
   "metadata": {},
   "outputs": [
    {
     "name": "stdout",
     "output_type": "stream",
     "text": [
      "Height: 5\n",
      "Base, first value: 10\n",
      "Base, second value: 15\n",
      "Area of a trapezoid: 62.5\n"
     ]
    }
   ],
   "source": [
    "Height, Base1, Base2 = map(float, input().split())\n",
    "\n",
    "print(\"Height:\", int(Height))\n",
    "print(\"Base, first value:\", int(Base1))\n",
    "print(\"Base, second value:\", int(Base2))\n",
    "\n",
    "Area = (Base1 + Base2) * Height / 2\n",
    "\n",
    "print(\"Area of a trapezoid:\", Area)"
   ]
  },
  {
   "cell_type": "code",
   "execution_count": 4,
   "metadata": {},
   "outputs": [
    {
     "name": "stdout",
     "output_type": "stream",
     "text": [
      "Number of sides: 5\n",
      "Lenght of a side: 10.0\n",
      "The area of the polygon is: 172\n"
     ]
    }
   ],
   "source": [
    "n = int(input())\n",
    "a = float(input())\n",
    "\n",
    "print(\"Number of sides:\", n)\n",
    "print(\"Lenght of a side:\", a)\n",
    "\n",
    "ap = 4 * math.tan(math.pi / n)\n",
    "\n",
    "area = (n * a**2) / ap\n",
    "\n",
    "print(\"The area of the polygon is:\", round(area))"
   ]
  },
  {
   "cell_type": "code",
   "execution_count": 5,
   "metadata": {},
   "outputs": [
    {
     "name": "stdout",
     "output_type": "stream",
     "text": [
      "Length of base: 10\n",
      "Height of parallelogram: 10\n",
      "Area of parallelogram: 100\n"
     ]
    }
   ],
   "source": [
    "Length, Height = map(int, input().split())\n",
    "\n",
    "print(\"Length of base:\", Length)\n",
    "print(\"Height of parallelogram:\", Height)\n",
    "\n",
    "print(\"Area of parallelogram:\", Length * Height)"
   ]
  }
 ],
 "metadata": {
  "kernelspec": {
   "display_name": "Python 3",
   "language": "python",
   "name": "python3"
  },
  "language_info": {
   "codemirror_mode": {
    "name": "ipython",
    "version": 3
   },
   "file_extension": ".py",
   "mimetype": "text/x-python",
   "name": "python",
   "nbconvert_exporter": "python",
   "pygments_lexer": "ipython3",
   "version": "3.12.9"
  }
 },
 "nbformat": 4,
 "nbformat_minor": 2
}
